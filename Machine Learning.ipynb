{
 "cells": [
  {
   "cell_type": "code",
   "execution_count": 1,
   "id": "06cf33f1",
   "metadata": {},
   "outputs": [],
   "source": [
    "import pandas as pd\n",
    "import matplotlib.pyplot as plt\n",
    "import seaborn as s\n",
    "import numpy as n"
   ]
  },
  {
   "cell_type": "code",
   "execution_count": 2,
   "id": "066f0929",
   "metadata": {},
   "outputs": [],
   "source": [
    "import warnings\n",
    "warnings.filterwarnings(\"ignore\")"
   ]
  },
  {
   "cell_type": "code",
   "execution_count": 3,
   "id": "aa169550",
   "metadata": {},
   "outputs": [],
   "source": [
    "df = pd.read_excel('C:\\\\Users\\\\admin\\\\OneDrive\\\\Desktop\\\\Dissertation\\\\Consolidated Data.xlsx')"
   ]
  },
  {
   "cell_type": "code",
   "execution_count": 4,
   "id": "63fd297b",
   "metadata": {},
   "outputs": [
    {
     "data": {
      "text/plain": [
       "Index(['YEAR', 'AUTHORISATION_ID ', 'OPERATOR_NAME', 'SITE_ADDRESS',\n",
       "       'SITE_POSTCODE', 'EA_AREA_NAME', 'ROUTE_NAME', 'SUBSTANCE_NAME',\n",
       "       'REPORTING_THRESHOLD_(kg)', 'QUANTITY_RELEASED_(kg)',\n",
       "       'ABOVE_THRESHOLD_(kg)', 'REGULATED_INDUSTRY_SECTOR',\n",
       "       'REGULATED_INDUSTRY_SUB_SECTOR'],\n",
       "      dtype='object')"
      ]
     },
     "execution_count": 4,
     "metadata": {},
     "output_type": "execute_result"
    }
   ],
   "source": [
    "df.columns"
   ]
  },
  {
   "cell_type": "code",
   "execution_count": 5,
   "id": "37d7dcbd",
   "metadata": {},
   "outputs": [
    {
     "data": {
      "text/html": [
       "<div>\n",
       "<style scoped>\n",
       "    .dataframe tbody tr th:only-of-type {\n",
       "        vertical-align: middle;\n",
       "    }\n",
       "\n",
       "    .dataframe tbody tr th {\n",
       "        vertical-align: top;\n",
       "    }\n",
       "\n",
       "    .dataframe thead th {\n",
       "        text-align: right;\n",
       "    }\n",
       "</style>\n",
       "<table border=\"1\" class=\"dataframe\">\n",
       "  <thead>\n",
       "    <tr style=\"text-align: right;\">\n",
       "      <th></th>\n",
       "      <th>YEAR</th>\n",
       "      <th>AUTHORISATION_ID</th>\n",
       "      <th>OPERATOR_NAME</th>\n",
       "      <th>SITE_ADDRESS</th>\n",
       "      <th>SITE_POSTCODE</th>\n",
       "      <th>EA_AREA_NAME</th>\n",
       "      <th>ROUTE_NAME</th>\n",
       "      <th>SUBSTANCE_NAME</th>\n",
       "      <th>REPORTING_THRESHOLD_(kg)</th>\n",
       "      <th>QUANTITY_RELEASED_(kg)</th>\n",
       "      <th>ABOVE_THRESHOLD_(kg)</th>\n",
       "      <th>REGULATED_INDUSTRY_SECTOR</th>\n",
       "      <th>REGULATED_INDUSTRY_SUB_SECTOR</th>\n",
       "    </tr>\n",
       "  </thead>\n",
       "  <tbody>\n",
       "    <tr>\n",
       "      <th>0</th>\n",
       "      <td>2013</td>\n",
       "      <td>01229</td>\n",
       "      <td>SOUTH WEST WATER LTD</td>\n",
       "      <td>EXETER STW (Countess Wear)</td>\n",
       "      <td>EX2 7AA</td>\n",
       "      <td>Devon and Cornwall</td>\n",
       "      <td>Controlled Waters</td>\n",
       "      <td>Benzo(a)pyrene</td>\n",
       "      <td>1.000</td>\n",
       "      <td>0.0</td>\n",
       "      <td>0.0</td>\n",
       "      <td>Water Industry</td>\n",
       "      <td>Water Industry</td>\n",
       "    </tr>\n",
       "    <tr>\n",
       "      <th>1</th>\n",
       "      <td>2013</td>\n",
       "      <td>01229</td>\n",
       "      <td>SOUTH WEST WATER LTD</td>\n",
       "      <td>EXETER STW (Countess Wear)</td>\n",
       "      <td>EX2 7AA</td>\n",
       "      <td>Devon and Cornwall</td>\n",
       "      <td>Controlled Waters</td>\n",
       "      <td>Benzo(b)fluoranthene</td>\n",
       "      <td>1.000</td>\n",
       "      <td>0.0</td>\n",
       "      <td>0.0</td>\n",
       "      <td>Water Industry</td>\n",
       "      <td>Water Industry</td>\n",
       "    </tr>\n",
       "    <tr>\n",
       "      <th>2</th>\n",
       "      <td>2013</td>\n",
       "      <td>01229</td>\n",
       "      <td>SOUTH WEST WATER LTD</td>\n",
       "      <td>EXETER STW (Countess Wear)</td>\n",
       "      <td>EX2 7AA</td>\n",
       "      <td>Devon and Cornwall</td>\n",
       "      <td>Controlled Waters</td>\n",
       "      <td>Octylphenols and octylphenol ethoxylates</td>\n",
       "      <td>1.000</td>\n",
       "      <td>0.0</td>\n",
       "      <td>0.0</td>\n",
       "      <td>Water Industry</td>\n",
       "      <td>Water Industry</td>\n",
       "    </tr>\n",
       "    <tr>\n",
       "      <th>3</th>\n",
       "      <td>2013</td>\n",
       "      <td>01229</td>\n",
       "      <td>SOUTH WEST WATER LTD</td>\n",
       "      <td>EXETER STW (Countess Wear)</td>\n",
       "      <td>EX2 7AA</td>\n",
       "      <td>Devon and Cornwall</td>\n",
       "      <td>Air</td>\n",
       "      <td>Chloroform (Trichloromethane)</td>\n",
       "      <td>100.000</td>\n",
       "      <td>0.0</td>\n",
       "      <td>0.0</td>\n",
       "      <td>Water Industry</td>\n",
       "      <td>Water Industry</td>\n",
       "    </tr>\n",
       "    <tr>\n",
       "      <th>4</th>\n",
       "      <td>2013</td>\n",
       "      <td>01229</td>\n",
       "      <td>SOUTH WEST WATER LTD</td>\n",
       "      <td>EXETER STW (Countess Wear)</td>\n",
       "      <td>EX2 7AA</td>\n",
       "      <td>Devon and Cornwall</td>\n",
       "      <td>Controlled Waters</td>\n",
       "      <td>Trifluralin</td>\n",
       "      <td>0.001</td>\n",
       "      <td>0.0</td>\n",
       "      <td>0.0</td>\n",
       "      <td>Water Industry</td>\n",
       "      <td>Water Industry</td>\n",
       "    </tr>\n",
       "  </tbody>\n",
       "</table>\n",
       "</div>"
      ],
      "text/plain": [
       "   YEAR AUTHORISATION_ID          OPERATOR_NAME                SITE_ADDRESS  \\\n",
       "0  2013             01229  SOUTH WEST WATER LTD  EXETER STW (Countess Wear)   \n",
       "1  2013             01229  SOUTH WEST WATER LTD  EXETER STW (Countess Wear)   \n",
       "2  2013             01229  SOUTH WEST WATER LTD  EXETER STW (Countess Wear)   \n",
       "3  2013             01229  SOUTH WEST WATER LTD  EXETER STW (Countess Wear)   \n",
       "4  2013             01229  SOUTH WEST WATER LTD  EXETER STW (Countess Wear)   \n",
       "\n",
       "  SITE_POSTCODE        EA_AREA_NAME         ROUTE_NAME  \\\n",
       "0       EX2 7AA  Devon and Cornwall  Controlled Waters   \n",
       "1       EX2 7AA  Devon and Cornwall  Controlled Waters   \n",
       "2       EX2 7AA  Devon and Cornwall  Controlled Waters   \n",
       "3       EX2 7AA  Devon and Cornwall                Air   \n",
       "4       EX2 7AA  Devon and Cornwall  Controlled Waters   \n",
       "\n",
       "                             SUBSTANCE_NAME  REPORTING_THRESHOLD_(kg)  \\\n",
       "0                            Benzo(a)pyrene                     1.000   \n",
       "1                      Benzo(b)fluoranthene                     1.000   \n",
       "2  Octylphenols and octylphenol ethoxylates                     1.000   \n",
       "3             Chloroform (Trichloromethane)                   100.000   \n",
       "4                               Trifluralin                     0.001   \n",
       "\n",
       "   QUANTITY_RELEASED_(kg)  ABOVE_THRESHOLD_(kg) REGULATED_INDUSTRY_SECTOR  \\\n",
       "0                     0.0                   0.0            Water Industry   \n",
       "1                     0.0                   0.0            Water Industry   \n",
       "2                     0.0                   0.0            Water Industry   \n",
       "3                     0.0                   0.0            Water Industry   \n",
       "4                     0.0                   0.0            Water Industry   \n",
       "\n",
       "  REGULATED_INDUSTRY_SUB_SECTOR  \n",
       "0                Water Industry  \n",
       "1                Water Industry  \n",
       "2                Water Industry  \n",
       "3                Water Industry  \n",
       "4                Water Industry  "
      ]
     },
     "execution_count": 5,
     "metadata": {},
     "output_type": "execute_result"
    }
   ],
   "source": [
    "df.head()"
   ]
  },
  {
   "cell_type": "code",
   "execution_count": 4,
   "id": "906afca8",
   "metadata": {},
   "outputs": [
    {
     "data": {
      "text/plain": [
       "YEAR                               int64\n",
       "AUTHORISATION_ID                  object\n",
       "OPERATOR_NAME                     object\n",
       "SITE_ADDRESS                      object\n",
       "SITE_POSTCODE                     object\n",
       "EA_AREA_NAME                      object\n",
       "ROUTE_NAME                        object\n",
       "SUBSTANCE_NAME                    object\n",
       "REPORTING_THRESHOLD_(kg)         float64\n",
       "QUANTITY_RELEASED_(kg)           float64\n",
       "ABOVE_THRESHOLD_(kg)             float64\n",
       "REGULATED_INDUSTRY_SECTOR         object\n",
       "REGULATED_INDUSTRY_SUB_SECTOR     object\n",
       "dtype: object"
      ]
     },
     "execution_count": 4,
     "metadata": {},
     "output_type": "execute_result"
    }
   ],
   "source": [
    "df.dtypes"
   ]
  },
  {
   "cell_type": "code",
   "execution_count": 7,
   "id": "088fcb04",
   "metadata": {},
   "outputs": [
    {
     "data": {
      "text/html": [
       "<div>\n",
       "<style scoped>\n",
       "    .dataframe tbody tr th:only-of-type {\n",
       "        vertical-align: middle;\n",
       "    }\n",
       "\n",
       "    .dataframe tbody tr th {\n",
       "        vertical-align: top;\n",
       "    }\n",
       "\n",
       "    .dataframe thead th {\n",
       "        text-align: right;\n",
       "    }\n",
       "</style>\n",
       "<table border=\"1\" class=\"dataframe\">\n",
       "  <thead>\n",
       "    <tr style=\"text-align: right;\">\n",
       "      <th></th>\n",
       "      <th>AUTHORISATION_ID</th>\n",
       "      <th>OPERATOR_NAME</th>\n",
       "      <th>SITE_ADDRESS</th>\n",
       "      <th>SITE_POSTCODE</th>\n",
       "      <th>EA_AREA_NAME</th>\n",
       "      <th>ROUTE_NAME</th>\n",
       "      <th>SUBSTANCE_NAME</th>\n",
       "      <th>REGULATED_INDUSTRY_SECTOR</th>\n",
       "      <th>REGULATED_INDUSTRY_SUB_SECTOR</th>\n",
       "    </tr>\n",
       "  </thead>\n",
       "  <tbody>\n",
       "    <tr>\n",
       "      <th>0</th>\n",
       "      <td>01229</td>\n",
       "      <td>SOUTH WEST WATER LTD</td>\n",
       "      <td>EXETER STW (Countess Wear)</td>\n",
       "      <td>EX2 7AA</td>\n",
       "      <td>Devon and Cornwall</td>\n",
       "      <td>Controlled Waters</td>\n",
       "      <td>Benzo(a)pyrene</td>\n",
       "      <td>Water Industry</td>\n",
       "      <td>Water Industry</td>\n",
       "    </tr>\n",
       "    <tr>\n",
       "      <th>1</th>\n",
       "      <td>01229</td>\n",
       "      <td>SOUTH WEST WATER LTD</td>\n",
       "      <td>EXETER STW (Countess Wear)</td>\n",
       "      <td>EX2 7AA</td>\n",
       "      <td>Devon and Cornwall</td>\n",
       "      <td>Controlled Waters</td>\n",
       "      <td>Benzo(b)fluoranthene</td>\n",
       "      <td>Water Industry</td>\n",
       "      <td>Water Industry</td>\n",
       "    </tr>\n",
       "    <tr>\n",
       "      <th>2</th>\n",
       "      <td>01229</td>\n",
       "      <td>SOUTH WEST WATER LTD</td>\n",
       "      <td>EXETER STW (Countess Wear)</td>\n",
       "      <td>EX2 7AA</td>\n",
       "      <td>Devon and Cornwall</td>\n",
       "      <td>Controlled Waters</td>\n",
       "      <td>Octylphenols and octylphenol ethoxylates</td>\n",
       "      <td>Water Industry</td>\n",
       "      <td>Water Industry</td>\n",
       "    </tr>\n",
       "    <tr>\n",
       "      <th>3</th>\n",
       "      <td>01229</td>\n",
       "      <td>SOUTH WEST WATER LTD</td>\n",
       "      <td>EXETER STW (Countess Wear)</td>\n",
       "      <td>EX2 7AA</td>\n",
       "      <td>Devon and Cornwall</td>\n",
       "      <td>Air</td>\n",
       "      <td>Chloroform (Trichloromethane)</td>\n",
       "      <td>Water Industry</td>\n",
       "      <td>Water Industry</td>\n",
       "    </tr>\n",
       "    <tr>\n",
       "      <th>4</th>\n",
       "      <td>01229</td>\n",
       "      <td>SOUTH WEST WATER LTD</td>\n",
       "      <td>EXETER STW (Countess Wear)</td>\n",
       "      <td>EX2 7AA</td>\n",
       "      <td>Devon and Cornwall</td>\n",
       "      <td>Controlled Waters</td>\n",
       "      <td>Trifluralin</td>\n",
       "      <td>Water Industry</td>\n",
       "      <td>Water Industry</td>\n",
       "    </tr>\n",
       "  </tbody>\n",
       "</table>\n",
       "</div>"
      ],
      "text/plain": [
       "  AUTHORISATION_ID          OPERATOR_NAME                SITE_ADDRESS  \\\n",
       "0             01229  SOUTH WEST WATER LTD  EXETER STW (Countess Wear)   \n",
       "1             01229  SOUTH WEST WATER LTD  EXETER STW (Countess Wear)   \n",
       "2             01229  SOUTH WEST WATER LTD  EXETER STW (Countess Wear)   \n",
       "3             01229  SOUTH WEST WATER LTD  EXETER STW (Countess Wear)   \n",
       "4             01229  SOUTH WEST WATER LTD  EXETER STW (Countess Wear)   \n",
       "\n",
       "  SITE_POSTCODE        EA_AREA_NAME         ROUTE_NAME  \\\n",
       "0       EX2 7AA  Devon and Cornwall  Controlled Waters   \n",
       "1       EX2 7AA  Devon and Cornwall  Controlled Waters   \n",
       "2       EX2 7AA  Devon and Cornwall  Controlled Waters   \n",
       "3       EX2 7AA  Devon and Cornwall                Air   \n",
       "4       EX2 7AA  Devon and Cornwall  Controlled Waters   \n",
       "\n",
       "                             SUBSTANCE_NAME REGULATED_INDUSTRY_SECTOR  \\\n",
       "0                            Benzo(a)pyrene            Water Industry   \n",
       "1                      Benzo(b)fluoranthene            Water Industry   \n",
       "2  Octylphenols and octylphenol ethoxylates            Water Industry   \n",
       "3             Chloroform (Trichloromethane)            Water Industry   \n",
       "4                               Trifluralin            Water Industry   \n",
       "\n",
       "  REGULATED_INDUSTRY_SUB_SECTOR  \n",
       "0                Water Industry  \n",
       "1                Water Industry  \n",
       "2                Water Industry  \n",
       "3                Water Industry  \n",
       "4                Water Industry  "
      ]
     },
     "execution_count": 7,
     "metadata": {},
     "output_type": "execute_result"
    }
   ],
   "source": [
    "obj_df = df.select_dtypes(include=['object']).copy()\n",
    "obj_df.head()"
   ]
  },
  {
   "cell_type": "code",
   "execution_count": 4,
   "id": "0b4bb3ce",
   "metadata": {},
   "outputs": [],
   "source": [
    "from sklearn.preprocessing import LabelEncoder\n",
    "var_mod = [\"YEAR\",'AUTHORISATION_ID ', \"OPERATOR_NAME\", \"SITE_ADDRESS\", \"SITE_POSTCODE\", \"EA_AREA_NAME\", \"ROUTE_NAME\", \"SUBSTANCE_NAME\",'REPORTING_THRESHOLD_(kg)', 'QUANTITY_RELEASED_(kg)',\n",
    "       'ABOVE_THRESHOLD_(kg)',\"REGULATED_INDUSTRY_SECTOR\",\"REGULATED_INDUSTRY_SUB_SECTOR\"]\n",
    "le = LabelEncoder()\n",
    "for i in var_mod:\n",
    "    df[i] = le.fit_transform(df[i].astype(str))"
   ]
  },
  {
   "cell_type": "code",
   "execution_count": 9,
   "id": "18cfd7b2",
   "metadata": {
    "scrolled": true
   },
   "outputs": [
    {
     "data": {
      "text/html": [
       "<div>\n",
       "<style scoped>\n",
       "    .dataframe tbody tr th:only-of-type {\n",
       "        vertical-align: middle;\n",
       "    }\n",
       "\n",
       "    .dataframe tbody tr th {\n",
       "        vertical-align: top;\n",
       "    }\n",
       "\n",
       "    .dataframe thead th {\n",
       "        text-align: right;\n",
       "    }\n",
       "</style>\n",
       "<table border=\"1\" class=\"dataframe\">\n",
       "  <thead>\n",
       "    <tr style=\"text-align: right;\">\n",
       "      <th></th>\n",
       "      <th>YEAR</th>\n",
       "      <th>AUTHORISATION_ID</th>\n",
       "      <th>OPERATOR_NAME</th>\n",
       "      <th>SITE_ADDRESS</th>\n",
       "      <th>SITE_POSTCODE</th>\n",
       "      <th>EA_AREA_NAME</th>\n",
       "      <th>ROUTE_NAME</th>\n",
       "      <th>SUBSTANCE_NAME</th>\n",
       "      <th>REPORTING_THRESHOLD_(kg)</th>\n",
       "      <th>QUANTITY_RELEASED_(kg)</th>\n",
       "      <th>ABOVE_THRESHOLD_(kg)</th>\n",
       "      <th>REGULATED_INDUSTRY_SECTOR</th>\n",
       "      <th>REGULATED_INDUSTRY_SUB_SECTOR</th>\n",
       "    </tr>\n",
       "  </thead>\n",
       "  <tbody>\n",
       "    <tr>\n",
       "      <th>0</th>\n",
       "      <td>0</td>\n",
       "      <td>2</td>\n",
       "      <td>2747</td>\n",
       "      <td>2441</td>\n",
       "      <td>951</td>\n",
       "      <td>3</td>\n",
       "      <td>1</td>\n",
       "      <td>8</td>\n",
       "      <td>8</td>\n",
       "      <td>0</td>\n",
       "      <td>0</td>\n",
       "      <td>22</td>\n",
       "      <td>51</td>\n",
       "    </tr>\n",
       "    <tr>\n",
       "      <th>1</th>\n",
       "      <td>0</td>\n",
       "      <td>2</td>\n",
       "      <td>2747</td>\n",
       "      <td>2441</td>\n",
       "      <td>951</td>\n",
       "      <td>3</td>\n",
       "      <td>1</td>\n",
       "      <td>9</td>\n",
       "      <td>8</td>\n",
       "      <td>0</td>\n",
       "      <td>0</td>\n",
       "      <td>22</td>\n",
       "      <td>51</td>\n",
       "    </tr>\n",
       "    <tr>\n",
       "      <th>2</th>\n",
       "      <td>0</td>\n",
       "      <td>2</td>\n",
       "      <td>2747</td>\n",
       "      <td>2441</td>\n",
       "      <td>951</td>\n",
       "      <td>3</td>\n",
       "      <td>1</td>\n",
       "      <td>79</td>\n",
       "      <td>8</td>\n",
       "      <td>0</td>\n",
       "      <td>0</td>\n",
       "      <td>22</td>\n",
       "      <td>51</td>\n",
       "    </tr>\n",
       "    <tr>\n",
       "      <th>3</th>\n",
       "      <td>0</td>\n",
       "      <td>2</td>\n",
       "      <td>2747</td>\n",
       "      <td>2441</td>\n",
       "      <td>951</td>\n",
       "      <td>3</td>\n",
       "      <td>0</td>\n",
       "      <td>25</td>\n",
       "      <td>10</td>\n",
       "      <td>0</td>\n",
       "      <td>0</td>\n",
       "      <td>22</td>\n",
       "      <td>51</td>\n",
       "    </tr>\n",
       "    <tr>\n",
       "      <th>4</th>\n",
       "      <td>0</td>\n",
       "      <td>2</td>\n",
       "      <td>2747</td>\n",
       "      <td>2441</td>\n",
       "      <td>951</td>\n",
       "      <td>3</td>\n",
       "      <td>1</td>\n",
       "      <td>106</td>\n",
       "      <td>3</td>\n",
       "      <td>0</td>\n",
       "      <td>0</td>\n",
       "      <td>22</td>\n",
       "      <td>51</td>\n",
       "    </tr>\n",
       "    <tr>\n",
       "      <th>...</th>\n",
       "      <td>...</td>\n",
       "      <td>...</td>\n",
       "      <td>...</td>\n",
       "      <td>...</td>\n",
       "      <td>...</td>\n",
       "      <td>...</td>\n",
       "      <td>...</td>\n",
       "      <td>...</td>\n",
       "      <td>...</td>\n",
       "      <td>...</td>\n",
       "      <td>...</td>\n",
       "      <td>...</td>\n",
       "      <td>...</td>\n",
       "    </tr>\n",
       "    <tr>\n",
       "      <th>248027</th>\n",
       "      <td>7</td>\n",
       "      <td>4160</td>\n",
       "      <td>2855</td>\n",
       "      <td>6576</td>\n",
       "      <td>2573</td>\n",
       "      <td>22</td>\n",
       "      <td>1</td>\n",
       "      <td>71</td>\n",
       "      <td>18</td>\n",
       "      <td>0</td>\n",
       "      <td>0</td>\n",
       "      <td>11</td>\n",
       "      <td>11</td>\n",
       "    </tr>\n",
       "    <tr>\n",
       "      <th>248028</th>\n",
       "      <td>7</td>\n",
       "      <td>4160</td>\n",
       "      <td>2855</td>\n",
       "      <td>6576</td>\n",
       "      <td>2573</td>\n",
       "      <td>22</td>\n",
       "      <td>1</td>\n",
       "      <td>110</td>\n",
       "      <td>10</td>\n",
       "      <td>0</td>\n",
       "      <td>0</td>\n",
       "      <td>11</td>\n",
       "      <td>11</td>\n",
       "    </tr>\n",
       "    <tr>\n",
       "      <th>248029</th>\n",
       "      <td>7</td>\n",
       "      <td>4160</td>\n",
       "      <td>2855</td>\n",
       "      <td>6576</td>\n",
       "      <td>2573</td>\n",
       "      <td>22</td>\n",
       "      <td>1</td>\n",
       "      <td>4</td>\n",
       "      <td>23</td>\n",
       "      <td>0</td>\n",
       "      <td>0</td>\n",
       "      <td>11</td>\n",
       "      <td>11</td>\n",
       "    </tr>\n",
       "    <tr>\n",
       "      <th>248030</th>\n",
       "      <td>7</td>\n",
       "      <td>4160</td>\n",
       "      <td>2855</td>\n",
       "      <td>6576</td>\n",
       "      <td>2573</td>\n",
       "      <td>22</td>\n",
       "      <td>1</td>\n",
       "      <td>14</td>\n",
       "      <td>8</td>\n",
       "      <td>0</td>\n",
       "      <td>0</td>\n",
       "      <td>11</td>\n",
       "      <td>11</td>\n",
       "    </tr>\n",
       "    <tr>\n",
       "      <th>248031</th>\n",
       "      <td>7</td>\n",
       "      <td>4160</td>\n",
       "      <td>2855</td>\n",
       "      <td>6576</td>\n",
       "      <td>2573</td>\n",
       "      <td>22</td>\n",
       "      <td>1</td>\n",
       "      <td>27</td>\n",
       "      <td>18</td>\n",
       "      <td>0</td>\n",
       "      <td>0</td>\n",
       "      <td>11</td>\n",
       "      <td>11</td>\n",
       "    </tr>\n",
       "  </tbody>\n",
       "</table>\n",
       "<p>248032 rows × 13 columns</p>\n",
       "</div>"
      ],
      "text/plain": [
       "        YEAR  AUTHORISATION_ID   OPERATOR_NAME  SITE_ADDRESS  SITE_POSTCODE  \\\n",
       "0          0                  2           2747          2441            951   \n",
       "1          0                  2           2747          2441            951   \n",
       "2          0                  2           2747          2441            951   \n",
       "3          0                  2           2747          2441            951   \n",
       "4          0                  2           2747          2441            951   \n",
       "...      ...                ...            ...           ...            ...   \n",
       "248027     7               4160           2855          6576           2573   \n",
       "248028     7               4160           2855          6576           2573   \n",
       "248029     7               4160           2855          6576           2573   \n",
       "248030     7               4160           2855          6576           2573   \n",
       "248031     7               4160           2855          6576           2573   \n",
       "\n",
       "        EA_AREA_NAME  ROUTE_NAME  SUBSTANCE_NAME  REPORTING_THRESHOLD_(kg)  \\\n",
       "0                  3           1               8                         8   \n",
       "1                  3           1               9                         8   \n",
       "2                  3           1              79                         8   \n",
       "3                  3           0              25                        10   \n",
       "4                  3           1             106                         3   \n",
       "...              ...         ...             ...                       ...   \n",
       "248027            22           1              71                        18   \n",
       "248028            22           1             110                        10   \n",
       "248029            22           1               4                        23   \n",
       "248030            22           1              14                         8   \n",
       "248031            22           1              27                        18   \n",
       "\n",
       "        QUANTITY_RELEASED_(kg)  ABOVE_THRESHOLD_(kg)  \\\n",
       "0                            0                     0   \n",
       "1                            0                     0   \n",
       "2                            0                     0   \n",
       "3                            0                     0   \n",
       "4                            0                     0   \n",
       "...                        ...                   ...   \n",
       "248027                       0                     0   \n",
       "248028                       0                     0   \n",
       "248029                       0                     0   \n",
       "248030                       0                     0   \n",
       "248031                       0                     0   \n",
       "\n",
       "        REGULATED_INDUSTRY_SECTOR  REGULATED_INDUSTRY_SUB_SECTOR  \n",
       "0                              22                             51  \n",
       "1                              22                             51  \n",
       "2                              22                             51  \n",
       "3                              22                             51  \n",
       "4                              22                             51  \n",
       "...                           ...                            ...  \n",
       "248027                         11                             11  \n",
       "248028                         11                             11  \n",
       "248029                         11                             11  \n",
       "248030                         11                             11  \n",
       "248031                         11                             11  \n",
       "\n",
       "[248032 rows x 13 columns]"
      ]
     },
     "execution_count": 9,
     "metadata": {},
     "output_type": "execute_result"
    }
   ],
   "source": [
    "df.head(-50)"
   ]
  },
  {
   "cell_type": "code",
   "execution_count": 5,
   "id": "a77ae77f",
   "metadata": {},
   "outputs": [
    {
     "data": {
      "text/plain": [
       "YEAR                             int32\n",
       "AUTHORISATION_ID                 int32\n",
       "OPERATOR_NAME                    int32\n",
       "SITE_ADDRESS                     int32\n",
       "SITE_POSTCODE                    int32\n",
       "EA_AREA_NAME                     int32\n",
       "ROUTE_NAME                       int32\n",
       "SUBSTANCE_NAME                   int32\n",
       "REPORTING_THRESHOLD_(kg)         int32\n",
       "QUANTITY_RELEASED_(kg)           int32\n",
       "ABOVE_THRESHOLD_(kg)             int32\n",
       "REGULATED_INDUSTRY_SECTOR        int32\n",
       "REGULATED_INDUSTRY_SUB_SECTOR    int32\n",
       "dtype: object"
      ]
     },
     "execution_count": 5,
     "metadata": {},
     "output_type": "execute_result"
    }
   ],
   "source": [
    "df.dtypes"
   ]
  },
  {
   "cell_type": "code",
   "execution_count": 6,
   "id": "e9ab3775",
   "metadata": {},
   "outputs": [],
   "source": [
    "df1 = df[df['YEAR'] != 7]\n",
    "df2 = df[df['YEAR'] == 7]\n",
    "x1 = df1.drop(labels='ABOVE_THRESHOLD_(kg)', axis=1)\n",
    "y1 = df1.loc[:,'ABOVE_THRESHOLD_(kg)']\n",
    "x2 = df2.drop(labels='ABOVE_THRESHOLD_(kg)', axis=1)\n",
    "y2 = df2.loc[:,'ABOVE_THRESHOLD_(kg)']"
   ]
  },
  {
   "cell_type": "code",
   "execution_count": 55,
   "id": "45dfd3c7",
   "metadata": {},
   "outputs": [
    {
     "data": {
      "text/html": [
       "<div>\n",
       "<style scoped>\n",
       "    .dataframe tbody tr th:only-of-type {\n",
       "        vertical-align: middle;\n",
       "    }\n",
       "\n",
       "    .dataframe tbody tr th {\n",
       "        vertical-align: top;\n",
       "    }\n",
       "\n",
       "    .dataframe thead th {\n",
       "        text-align: right;\n",
       "    }\n",
       "</style>\n",
       "<table border=\"1\" class=\"dataframe\">\n",
       "  <thead>\n",
       "    <tr style=\"text-align: right;\">\n",
       "      <th></th>\n",
       "      <th>YEAR</th>\n",
       "      <th>AUTHORISATION_ID</th>\n",
       "      <th>OPERATOR_NAME</th>\n",
       "      <th>SITE_ADDRESS</th>\n",
       "      <th>SITE_POSTCODE</th>\n",
       "      <th>EA_AREA_NAME</th>\n",
       "      <th>ROUTE_NAME</th>\n",
       "      <th>SUBSTANCE_NAME</th>\n",
       "      <th>REPORTING_THRESHOLD_(kg)</th>\n",
       "      <th>QUANTITY_RELEASED_(kg)</th>\n",
       "      <th>REGULATED_INDUSTRY_SECTOR</th>\n",
       "      <th>REGULATED_INDUSTRY_SUB_SECTOR</th>\n",
       "    </tr>\n",
       "  </thead>\n",
       "  <tbody>\n",
       "    <tr>\n",
       "      <th>0</th>\n",
       "      <td>0</td>\n",
       "      <td>2</td>\n",
       "      <td>2747</td>\n",
       "      <td>2441</td>\n",
       "      <td>951</td>\n",
       "      <td>3</td>\n",
       "      <td>1</td>\n",
       "      <td>8</td>\n",
       "      <td>8</td>\n",
       "      <td>0</td>\n",
       "      <td>22</td>\n",
       "      <td>51</td>\n",
       "    </tr>\n",
       "    <tr>\n",
       "      <th>1</th>\n",
       "      <td>0</td>\n",
       "      <td>2</td>\n",
       "      <td>2747</td>\n",
       "      <td>2441</td>\n",
       "      <td>951</td>\n",
       "      <td>3</td>\n",
       "      <td>1</td>\n",
       "      <td>9</td>\n",
       "      <td>8</td>\n",
       "      <td>0</td>\n",
       "      <td>22</td>\n",
       "      <td>51</td>\n",
       "    </tr>\n",
       "    <tr>\n",
       "      <th>2</th>\n",
       "      <td>0</td>\n",
       "      <td>2</td>\n",
       "      <td>2747</td>\n",
       "      <td>2441</td>\n",
       "      <td>951</td>\n",
       "      <td>3</td>\n",
       "      <td>1</td>\n",
       "      <td>79</td>\n",
       "      <td>8</td>\n",
       "      <td>0</td>\n",
       "      <td>22</td>\n",
       "      <td>51</td>\n",
       "    </tr>\n",
       "    <tr>\n",
       "      <th>3</th>\n",
       "      <td>0</td>\n",
       "      <td>2</td>\n",
       "      <td>2747</td>\n",
       "      <td>2441</td>\n",
       "      <td>951</td>\n",
       "      <td>3</td>\n",
       "      <td>0</td>\n",
       "      <td>25</td>\n",
       "      <td>10</td>\n",
       "      <td>0</td>\n",
       "      <td>22</td>\n",
       "      <td>51</td>\n",
       "    </tr>\n",
       "    <tr>\n",
       "      <th>4</th>\n",
       "      <td>0</td>\n",
       "      <td>2</td>\n",
       "      <td>2747</td>\n",
       "      <td>2441</td>\n",
       "      <td>951</td>\n",
       "      <td>3</td>\n",
       "      <td>1</td>\n",
       "      <td>106</td>\n",
       "      <td>3</td>\n",
       "      <td>0</td>\n",
       "      <td>22</td>\n",
       "      <td>51</td>\n",
       "    </tr>\n",
       "    <tr>\n",
       "      <th>...</th>\n",
       "      <td>...</td>\n",
       "      <td>...</td>\n",
       "      <td>...</td>\n",
       "      <td>...</td>\n",
       "      <td>...</td>\n",
       "      <td>...</td>\n",
       "      <td>...</td>\n",
       "      <td>...</td>\n",
       "      <td>...</td>\n",
       "      <td>...</td>\n",
       "      <td>...</td>\n",
       "      <td>...</td>\n",
       "    </tr>\n",
       "    <tr>\n",
       "      <th>217779</th>\n",
       "      <td>6</td>\n",
       "      <td>4164</td>\n",
       "      <td>2990</td>\n",
       "      <td>7017</td>\n",
       "      <td>229</td>\n",
       "      <td>19</td>\n",
       "      <td>0</td>\n",
       "      <td>92</td>\n",
       "      <td>17</td>\n",
       "      <td>0</td>\n",
       "      <td>7</td>\n",
       "      <td>10</td>\n",
       "    </tr>\n",
       "    <tr>\n",
       "      <th>217780</th>\n",
       "      <td>6</td>\n",
       "      <td>4164</td>\n",
       "      <td>2990</td>\n",
       "      <td>7017</td>\n",
       "      <td>229</td>\n",
       "      <td>19</td>\n",
       "      <td>0</td>\n",
       "      <td>97</td>\n",
       "      <td>28</td>\n",
       "      <td>0</td>\n",
       "      <td>7</td>\n",
       "      <td>10</td>\n",
       "    </tr>\n",
       "    <tr>\n",
       "      <th>217781</th>\n",
       "      <td>6</td>\n",
       "      <td>4165</td>\n",
       "      <td>2796</td>\n",
       "      <td>6892</td>\n",
       "      <td>2728</td>\n",
       "      <td>19</td>\n",
       "      <td>0</td>\n",
       "      <td>2</td>\n",
       "      <td>11</td>\n",
       "      <td>20641</td>\n",
       "      <td>0</td>\n",
       "      <td>22</td>\n",
       "    </tr>\n",
       "    <tr>\n",
       "      <th>217782</th>\n",
       "      <td>6</td>\n",
       "      <td>4165</td>\n",
       "      <td>2796</td>\n",
       "      <td>6892</td>\n",
       "      <td>2728</td>\n",
       "      <td>19</td>\n",
       "      <td>0</td>\n",
       "      <td>81</td>\n",
       "      <td>11</td>\n",
       "      <td>20452</td>\n",
       "      <td>0</td>\n",
       "      <td>22</td>\n",
       "    </tr>\n",
       "    <tr>\n",
       "      <th>217783</th>\n",
       "      <td>6</td>\n",
       "      <td>4165</td>\n",
       "      <td>2796</td>\n",
       "      <td>6892</td>\n",
       "      <td>2728</td>\n",
       "      <td>19</td>\n",
       "      <td>0</td>\n",
       "      <td>73</td>\n",
       "      <td>28</td>\n",
       "      <td>0</td>\n",
       "      <td>0</td>\n",
       "      <td>22</td>\n",
       "    </tr>\n",
       "  </tbody>\n",
       "</table>\n",
       "<p>217784 rows × 12 columns</p>\n",
       "</div>"
      ],
      "text/plain": [
       "        YEAR  AUTHORISATION_ID   OPERATOR_NAME  SITE_ADDRESS  SITE_POSTCODE  \\\n",
       "0          0                  2           2747          2441            951   \n",
       "1          0                  2           2747          2441            951   \n",
       "2          0                  2           2747          2441            951   \n",
       "3          0                  2           2747          2441            951   \n",
       "4          0                  2           2747          2441            951   \n",
       "...      ...                ...            ...           ...            ...   \n",
       "217779     6               4164           2990          7017            229   \n",
       "217780     6               4164           2990          7017            229   \n",
       "217781     6               4165           2796          6892           2728   \n",
       "217782     6               4165           2796          6892           2728   \n",
       "217783     6               4165           2796          6892           2728   \n",
       "\n",
       "        EA_AREA_NAME  ROUTE_NAME  SUBSTANCE_NAME  REPORTING_THRESHOLD_(kg)  \\\n",
       "0                  3           1               8                         8   \n",
       "1                  3           1               9                         8   \n",
       "2                  3           1              79                         8   \n",
       "3                  3           0              25                        10   \n",
       "4                  3           1             106                         3   \n",
       "...              ...         ...             ...                       ...   \n",
       "217779            19           0              92                        17   \n",
       "217780            19           0              97                        28   \n",
       "217781            19           0               2                        11   \n",
       "217782            19           0              81                        11   \n",
       "217783            19           0              73                        28   \n",
       "\n",
       "        QUANTITY_RELEASED_(kg)  REGULATED_INDUSTRY_SECTOR  \\\n",
       "0                            0                         22   \n",
       "1                            0                         22   \n",
       "2                            0                         22   \n",
       "3                            0                         22   \n",
       "4                            0                         22   \n",
       "...                        ...                        ...   \n",
       "217779                       0                          7   \n",
       "217780                       0                          7   \n",
       "217781                   20641                          0   \n",
       "217782                   20452                          0   \n",
       "217783                       0                          0   \n",
       "\n",
       "        REGULATED_INDUSTRY_SUB_SECTOR  \n",
       "0                                  51  \n",
       "1                                  51  \n",
       "2                                  51  \n",
       "3                                  51  \n",
       "4                                  51  \n",
       "...                               ...  \n",
       "217779                             10  \n",
       "217780                             10  \n",
       "217781                             22  \n",
       "217782                             22  \n",
       "217783                             22  \n",
       "\n",
       "[217784 rows x 12 columns]"
      ]
     },
     "execution_count": 55,
     "metadata": {},
     "output_type": "execute_result"
    }
   ],
   "source": [
    "x1"
   ]
  },
  {
   "cell_type": "code",
   "execution_count": 56,
   "id": "f299c267",
   "metadata": {},
   "outputs": [
    {
     "data": {
      "text/plain": [
       "0             0\n",
       "1             0\n",
       "2             0\n",
       "3             0\n",
       "4             0\n",
       "          ...  \n",
       "217779        0\n",
       "217780        0\n",
       "217781    16939\n",
       "217782    16718\n",
       "217783        0\n",
       "Name: ABOVE_THRESHOLD_(kg), Length: 217784, dtype: int32"
      ]
     },
     "execution_count": 56,
     "metadata": {},
     "output_type": "execute_result"
    }
   ],
   "source": [
    "y1"
   ]
  },
  {
   "cell_type": "code",
   "execution_count": 57,
   "id": "7caed6aa",
   "metadata": {},
   "outputs": [
    {
     "data": {
      "text/html": [
       "<div>\n",
       "<style scoped>\n",
       "    .dataframe tbody tr th:only-of-type {\n",
       "        vertical-align: middle;\n",
       "    }\n",
       "\n",
       "    .dataframe tbody tr th {\n",
       "        vertical-align: top;\n",
       "    }\n",
       "\n",
       "    .dataframe thead th {\n",
       "        text-align: right;\n",
       "    }\n",
       "</style>\n",
       "<table border=\"1\" class=\"dataframe\">\n",
       "  <thead>\n",
       "    <tr style=\"text-align: right;\">\n",
       "      <th></th>\n",
       "      <th>YEAR</th>\n",
       "      <th>AUTHORISATION_ID</th>\n",
       "      <th>OPERATOR_NAME</th>\n",
       "      <th>SITE_ADDRESS</th>\n",
       "      <th>SITE_POSTCODE</th>\n",
       "      <th>EA_AREA_NAME</th>\n",
       "      <th>ROUTE_NAME</th>\n",
       "      <th>SUBSTANCE_NAME</th>\n",
       "      <th>REPORTING_THRESHOLD_(kg)</th>\n",
       "      <th>QUANTITY_RELEASED_(kg)</th>\n",
       "      <th>REGULATED_INDUSTRY_SECTOR</th>\n",
       "      <th>REGULATED_INDUSTRY_SUB_SECTOR</th>\n",
       "    </tr>\n",
       "  </thead>\n",
       "  <tbody>\n",
       "    <tr>\n",
       "      <th>217784</th>\n",
       "      <td>7</td>\n",
       "      <td>0</td>\n",
       "      <td>2747</td>\n",
       "      <td>2441</td>\n",
       "      <td>951</td>\n",
       "      <td>4</td>\n",
       "      <td>1</td>\n",
       "      <td>72</td>\n",
       "      <td>26</td>\n",
       "      <td>15728</td>\n",
       "      <td>22</td>\n",
       "      <td>51</td>\n",
       "    </tr>\n",
       "    <tr>\n",
       "      <th>217785</th>\n",
       "      <td>7</td>\n",
       "      <td>0</td>\n",
       "      <td>2747</td>\n",
       "      <td>2441</td>\n",
       "      <td>951</td>\n",
       "      <td>4</td>\n",
       "      <td>1</td>\n",
       "      <td>101</td>\n",
       "      <td>26</td>\n",
       "      <td>2185</td>\n",
       "      <td>22</td>\n",
       "      <td>51</td>\n",
       "    </tr>\n",
       "    <tr>\n",
       "      <th>217786</th>\n",
       "      <td>7</td>\n",
       "      <td>0</td>\n",
       "      <td>2747</td>\n",
       "      <td>2441</td>\n",
       "      <td>951</td>\n",
       "      <td>4</td>\n",
       "      <td>1</td>\n",
       "      <td>90</td>\n",
       "      <td>25</td>\n",
       "      <td>17976</td>\n",
       "      <td>22</td>\n",
       "      <td>51</td>\n",
       "    </tr>\n",
       "    <tr>\n",
       "      <th>217787</th>\n",
       "      <td>7</td>\n",
       "      <td>0</td>\n",
       "      <td>2747</td>\n",
       "      <td>2441</td>\n",
       "      <td>951</td>\n",
       "      <td>4</td>\n",
       "      <td>1</td>\n",
       "      <td>45</td>\n",
       "      <td>20</td>\n",
       "      <td>16614</td>\n",
       "      <td>22</td>\n",
       "      <td>51</td>\n",
       "    </tr>\n",
       "    <tr>\n",
       "      <th>217788</th>\n",
       "      <td>7</td>\n",
       "      <td>0</td>\n",
       "      <td>2747</td>\n",
       "      <td>2441</td>\n",
       "      <td>951</td>\n",
       "      <td>4</td>\n",
       "      <td>1</td>\n",
       "      <td>47</td>\n",
       "      <td>11</td>\n",
       "      <td>8847</td>\n",
       "      <td>22</td>\n",
       "      <td>51</td>\n",
       "    </tr>\n",
       "    <tr>\n",
       "      <th>...</th>\n",
       "      <td>...</td>\n",
       "      <td>...</td>\n",
       "      <td>...</td>\n",
       "      <td>...</td>\n",
       "      <td>...</td>\n",
       "      <td>...</td>\n",
       "      <td>...</td>\n",
       "      <td>...</td>\n",
       "      <td>...</td>\n",
       "      <td>...</td>\n",
       "      <td>...</td>\n",
       "      <td>...</td>\n",
       "    </tr>\n",
       "    <tr>\n",
       "      <th>248077</th>\n",
       "      <td>7</td>\n",
       "      <td>4164</td>\n",
       "      <td>2990</td>\n",
       "      <td>7017</td>\n",
       "      <td>229</td>\n",
       "      <td>19</td>\n",
       "      <td>0</td>\n",
       "      <td>83</td>\n",
       "      <td>12</td>\n",
       "      <td>0</td>\n",
       "      <td>7</td>\n",
       "      <td>10</td>\n",
       "    </tr>\n",
       "    <tr>\n",
       "      <th>248078</th>\n",
       "      <td>7</td>\n",
       "      <td>4164</td>\n",
       "      <td>2990</td>\n",
       "      <td>7017</td>\n",
       "      <td>229</td>\n",
       "      <td>19</td>\n",
       "      <td>0</td>\n",
       "      <td>9</td>\n",
       "      <td>8</td>\n",
       "      <td>0</td>\n",
       "      <td>7</td>\n",
       "      <td>10</td>\n",
       "    </tr>\n",
       "    <tr>\n",
       "      <th>248079</th>\n",
       "      <td>7</td>\n",
       "      <td>4165</td>\n",
       "      <td>2796</td>\n",
       "      <td>6895</td>\n",
       "      <td>2728</td>\n",
       "      <td>19</td>\n",
       "      <td>0</td>\n",
       "      <td>2</td>\n",
       "      <td>11</td>\n",
       "      <td>20878</td>\n",
       "      <td>0</td>\n",
       "      <td>22</td>\n",
       "    </tr>\n",
       "    <tr>\n",
       "      <th>248080</th>\n",
       "      <td>7</td>\n",
       "      <td>4165</td>\n",
       "      <td>2796</td>\n",
       "      <td>6895</td>\n",
       "      <td>2728</td>\n",
       "      <td>19</td>\n",
       "      <td>0</td>\n",
       "      <td>81</td>\n",
       "      <td>11</td>\n",
       "      <td>20659</td>\n",
       "      <td>0</td>\n",
       "      <td>22</td>\n",
       "    </tr>\n",
       "    <tr>\n",
       "      <th>248081</th>\n",
       "      <td>7</td>\n",
       "      <td>4165</td>\n",
       "      <td>2796</td>\n",
       "      <td>6895</td>\n",
       "      <td>2728</td>\n",
       "      <td>19</td>\n",
       "      <td>0</td>\n",
       "      <td>73</td>\n",
       "      <td>13</td>\n",
       "      <td>0</td>\n",
       "      <td>0</td>\n",
       "      <td>22</td>\n",
       "    </tr>\n",
       "  </tbody>\n",
       "</table>\n",
       "<p>30298 rows × 12 columns</p>\n",
       "</div>"
      ],
      "text/plain": [
       "        YEAR  AUTHORISATION_ID   OPERATOR_NAME  SITE_ADDRESS  SITE_POSTCODE  \\\n",
       "217784     7                  0           2747          2441            951   \n",
       "217785     7                  0           2747          2441            951   \n",
       "217786     7                  0           2747          2441            951   \n",
       "217787     7                  0           2747          2441            951   \n",
       "217788     7                  0           2747          2441            951   \n",
       "...      ...                ...            ...           ...            ...   \n",
       "248077     7               4164           2990          7017            229   \n",
       "248078     7               4164           2990          7017            229   \n",
       "248079     7               4165           2796          6895           2728   \n",
       "248080     7               4165           2796          6895           2728   \n",
       "248081     7               4165           2796          6895           2728   \n",
       "\n",
       "        EA_AREA_NAME  ROUTE_NAME  SUBSTANCE_NAME  REPORTING_THRESHOLD_(kg)  \\\n",
       "217784             4           1              72                        26   \n",
       "217785             4           1             101                        26   \n",
       "217786             4           1              90                        25   \n",
       "217787             4           1              45                        20   \n",
       "217788             4           1              47                        11   \n",
       "...              ...         ...             ...                       ...   \n",
       "248077            19           0              83                        12   \n",
       "248078            19           0               9                         8   \n",
       "248079            19           0               2                        11   \n",
       "248080            19           0              81                        11   \n",
       "248081            19           0              73                        13   \n",
       "\n",
       "        QUANTITY_RELEASED_(kg)  REGULATED_INDUSTRY_SECTOR  \\\n",
       "217784                   15728                         22   \n",
       "217785                    2185                         22   \n",
       "217786                   17976                         22   \n",
       "217787                   16614                         22   \n",
       "217788                    8847                         22   \n",
       "...                        ...                        ...   \n",
       "248077                       0                          7   \n",
       "248078                       0                          7   \n",
       "248079                   20878                          0   \n",
       "248080                   20659                          0   \n",
       "248081                       0                          0   \n",
       "\n",
       "        REGULATED_INDUSTRY_SUB_SECTOR  \n",
       "217784                             51  \n",
       "217785                             51  \n",
       "217786                             51  \n",
       "217787                             51  \n",
       "217788                             51  \n",
       "...                               ...  \n",
       "248077                             10  \n",
       "248078                             10  \n",
       "248079                             22  \n",
       "248080                             22  \n",
       "248081                             22  \n",
       "\n",
       "[30298 rows x 12 columns]"
      ]
     },
     "execution_count": 57,
     "metadata": {},
     "output_type": "execute_result"
    }
   ],
   "source": [
    "x2"
   ]
  },
  {
   "cell_type": "code",
   "execution_count": 54,
   "id": "04c02944",
   "metadata": {},
   "outputs": [
    {
     "data": {
      "text/plain": [
       "217784    12508\n",
       "217785    17644\n",
       "217786    15125\n",
       "217787     8421\n",
       "217788    23290\n",
       "          ...  \n",
       "248077        0\n",
       "248078        0\n",
       "248079    17207\n",
       "248080    16961\n",
       "248081        0\n",
       "Name: ABOVE_THRESHOLD_(kg), Length: 30298, dtype: int32"
      ]
     },
     "execution_count": 54,
     "metadata": {},
     "output_type": "execute_result"
    }
   ],
   "source": [
    "y2"
   ]
  },
  {
   "cell_type": "code",
   "execution_count": 8,
   "id": "485d543b",
   "metadata": {},
   "outputs": [
    {
     "name": "stdout",
     "output_type": "stream",
     "text": [
      "Number of training dataset: 152448\n",
      "Number of test dataset: 65336\n",
      "Total number of dataset: 217784\n"
     ]
    }
   ],
   "source": [
    "from sklearn.model_selection import train_test_split\n",
    "x_train, x_test, y_train, y_test = train_test_split(x1,y1,test_size=0.3,random_state=1)\n",
    "x2_train, x2_test, y2_train, y2_test = train_test_split(x2,y2,test_size=0.3,random_state=1)\n",
    "print(\"Number of training dataset:\",len(x_train))\n",
    "print(\"Number of test dataset:\",len(x_test))\n",
    "print(\"Total number of dataset:\",len(x_test)+len(x_train))"
   ]
  },
  {
   "cell_type": "code",
   "execution_count": 9,
   "id": "fb9582d7",
   "metadata": {},
   "outputs": [
    {
     "data": {
      "text/html": [
       "<div>\n",
       "<style scoped>\n",
       "    .dataframe tbody tr th:only-of-type {\n",
       "        vertical-align: middle;\n",
       "    }\n",
       "\n",
       "    .dataframe tbody tr th {\n",
       "        vertical-align: top;\n",
       "    }\n",
       "\n",
       "    .dataframe thead th {\n",
       "        text-align: right;\n",
       "    }\n",
       "</style>\n",
       "<table border=\"1\" class=\"dataframe\">\n",
       "  <thead>\n",
       "    <tr style=\"text-align: right;\">\n",
       "      <th></th>\n",
       "      <th>YEAR</th>\n",
       "      <th>AUTHORISATION_ID</th>\n",
       "      <th>OPERATOR_NAME</th>\n",
       "      <th>SITE_ADDRESS</th>\n",
       "      <th>SITE_POSTCODE</th>\n",
       "      <th>EA_AREA_NAME</th>\n",
       "      <th>ROUTE_NAME</th>\n",
       "      <th>SUBSTANCE_NAME</th>\n",
       "      <th>REPORTING_THRESHOLD_(kg)</th>\n",
       "      <th>QUANTITY_RELEASED_(kg)</th>\n",
       "      <th>REGULATED_INDUSTRY_SECTOR</th>\n",
       "      <th>REGULATED_INDUSTRY_SUB_SECTOR</th>\n",
       "    </tr>\n",
       "  </thead>\n",
       "  <tbody>\n",
       "    <tr>\n",
       "      <th>11408</th>\n",
       "      <td>0</td>\n",
       "      <td>847</td>\n",
       "      <td>3275</td>\n",
       "      <td>3657</td>\n",
       "      <td>2975</td>\n",
       "      <td>3</td>\n",
       "      <td>0</td>\n",
       "      <td>36</td>\n",
       "      <td>17</td>\n",
       "      <td>0</td>\n",
       "      <td>10</td>\n",
       "      <td>31</td>\n",
       "    </tr>\n",
       "    <tr>\n",
       "      <th>48200</th>\n",
       "      <td>1</td>\n",
       "      <td>1383</td>\n",
       "      <td>3454</td>\n",
       "      <td>8719</td>\n",
       "      <td>77</td>\n",
       "      <td>19</td>\n",
       "      <td>0</td>\n",
       "      <td>77</td>\n",
       "      <td>12</td>\n",
       "      <td>0</td>\n",
       "      <td>1</td>\n",
       "      <td>2</td>\n",
       "    </tr>\n",
       "    <tr>\n",
       "      <th>76454</th>\n",
       "      <td>2</td>\n",
       "      <td>883</td>\n",
       "      <td>376</td>\n",
       "      <td>5664</td>\n",
       "      <td>2598</td>\n",
       "      <td>0</td>\n",
       "      <td>0</td>\n",
       "      <td>42</td>\n",
       "      <td>11</td>\n",
       "      <td>0</td>\n",
       "      <td>10</td>\n",
       "      <td>31</td>\n",
       "    </tr>\n",
       "    <tr>\n",
       "      <th>147856</th>\n",
       "      <td>4</td>\n",
       "      <td>3104</td>\n",
       "      <td>2250</td>\n",
       "      <td>382</td>\n",
       "      <td>528</td>\n",
       "      <td>8</td>\n",
       "      <td>0</td>\n",
       "      <td>76</td>\n",
       "      <td>12</td>\n",
       "      <td>0</td>\n",
       "      <td>8</td>\n",
       "      <td>12</td>\n",
       "    </tr>\n",
       "    <tr>\n",
       "      <th>53384</th>\n",
       "      <td>1</td>\n",
       "      <td>2557</td>\n",
       "      <td>392</td>\n",
       "      <td>4964</td>\n",
       "      <td>2118</td>\n",
       "      <td>7</td>\n",
       "      <td>0</td>\n",
       "      <td>73</td>\n",
       "      <td>13</td>\n",
       "      <td>0</td>\n",
       "      <td>8</td>\n",
       "      <td>12</td>\n",
       "    </tr>\n",
       "    <tr>\n",
       "      <th>...</th>\n",
       "      <td>...</td>\n",
       "      <td>...</td>\n",
       "      <td>...</td>\n",
       "      <td>...</td>\n",
       "      <td>...</td>\n",
       "      <td>...</td>\n",
       "      <td>...</td>\n",
       "      <td>...</td>\n",
       "      <td>...</td>\n",
       "      <td>...</td>\n",
       "      <td>...</td>\n",
       "      <td>...</td>\n",
       "    </tr>\n",
       "    <tr>\n",
       "      <th>109259</th>\n",
       "      <td>3</td>\n",
       "      <td>1411</td>\n",
       "      <td>59</td>\n",
       "      <td>6977</td>\n",
       "      <td>3024</td>\n",
       "      <td>13</td>\n",
       "      <td>0</td>\n",
       "      <td>73</td>\n",
       "      <td>28</td>\n",
       "      <td>0</td>\n",
       "      <td>10</td>\n",
       "      <td>31</td>\n",
       "    </tr>\n",
       "    <tr>\n",
       "      <th>50057</th>\n",
       "      <td>1</td>\n",
       "      <td>1790</td>\n",
       "      <td>188</td>\n",
       "      <td>5481</td>\n",
       "      <td>2868</td>\n",
       "      <td>19</td>\n",
       "      <td>0</td>\n",
       "      <td>83</td>\n",
       "      <td>12</td>\n",
       "      <td>0</td>\n",
       "      <td>8</td>\n",
       "      <td>12</td>\n",
       "    </tr>\n",
       "    <tr>\n",
       "      <th>5192</th>\n",
       "      <td>0</td>\n",
       "      <td>358</td>\n",
       "      <td>445</td>\n",
       "      <td>3725</td>\n",
       "      <td>1493</td>\n",
       "      <td>1</td>\n",
       "      <td>0</td>\n",
       "      <td>25</td>\n",
       "      <td>10</td>\n",
       "      <td>0</td>\n",
       "      <td>15</td>\n",
       "      <td>37</td>\n",
       "    </tr>\n",
       "    <tr>\n",
       "      <th>208780</th>\n",
       "      <td>6</td>\n",
       "      <td>2978</td>\n",
       "      <td>2773</td>\n",
       "      <td>7792</td>\n",
       "      <td>2988</td>\n",
       "      <td>13</td>\n",
       "      <td>0</td>\n",
       "      <td>7</td>\n",
       "      <td>11</td>\n",
       "      <td>0</td>\n",
       "      <td>10</td>\n",
       "      <td>31</td>\n",
       "    </tr>\n",
       "    <tr>\n",
       "      <th>128037</th>\n",
       "      <td>4</td>\n",
       "      <td>3498</td>\n",
       "      <td>59</td>\n",
       "      <td>5506</td>\n",
       "      <td>1658</td>\n",
       "      <td>12</td>\n",
       "      <td>0</td>\n",
       "      <td>42</td>\n",
       "      <td>11</td>\n",
       "      <td>0</td>\n",
       "      <td>10</td>\n",
       "      <td>31</td>\n",
       "    </tr>\n",
       "  </tbody>\n",
       "</table>\n",
       "<p>152448 rows × 12 columns</p>\n",
       "</div>"
      ],
      "text/plain": [
       "        YEAR  AUTHORISATION_ID   OPERATOR_NAME  SITE_ADDRESS  SITE_POSTCODE  \\\n",
       "11408      0                847           3275          3657           2975   \n",
       "48200      1               1383           3454          8719             77   \n",
       "76454      2                883            376          5664           2598   \n",
       "147856     4               3104           2250           382            528   \n",
       "53384      1               2557            392          4964           2118   \n",
       "...      ...                ...            ...           ...            ...   \n",
       "109259     3               1411             59          6977           3024   \n",
       "50057      1               1790            188          5481           2868   \n",
       "5192       0                358            445          3725           1493   \n",
       "208780     6               2978           2773          7792           2988   \n",
       "128037     4               3498             59          5506           1658   \n",
       "\n",
       "        EA_AREA_NAME  ROUTE_NAME  SUBSTANCE_NAME  REPORTING_THRESHOLD_(kg)  \\\n",
       "11408              3           0              36                        17   \n",
       "48200             19           0              77                        12   \n",
       "76454              0           0              42                        11   \n",
       "147856             8           0              76                        12   \n",
       "53384              7           0              73                        13   \n",
       "...              ...         ...             ...                       ...   \n",
       "109259            13           0              73                        28   \n",
       "50057             19           0              83                        12   \n",
       "5192               1           0              25                        10   \n",
       "208780            13           0               7                        11   \n",
       "128037            12           0              42                        11   \n",
       "\n",
       "        QUANTITY_RELEASED_(kg)  REGULATED_INDUSTRY_SECTOR  \\\n",
       "11408                        0                         10   \n",
       "48200                        0                          1   \n",
       "76454                        0                         10   \n",
       "147856                       0                          8   \n",
       "53384                        0                          8   \n",
       "...                        ...                        ...   \n",
       "109259                       0                         10   \n",
       "50057                        0                          8   \n",
       "5192                         0                         15   \n",
       "208780                       0                         10   \n",
       "128037                       0                         10   \n",
       "\n",
       "        REGULATED_INDUSTRY_SUB_SECTOR  \n",
       "11408                              31  \n",
       "48200                               2  \n",
       "76454                              31  \n",
       "147856                             12  \n",
       "53384                              12  \n",
       "...                               ...  \n",
       "109259                             31  \n",
       "50057                              12  \n",
       "5192                               37  \n",
       "208780                             31  \n",
       "128037                             31  \n",
       "\n",
       "[152448 rows x 12 columns]"
      ]
     },
     "execution_count": 9,
     "metadata": {},
     "output_type": "execute_result"
    }
   ],
   "source": [
    "x_train"
   ]
  },
  {
   "cell_type": "code",
   "execution_count": 60,
   "id": "e97ddffa",
   "metadata": {},
   "outputs": [],
   "source": [
    "from sklearn.model_selection import cross_val_score\n",
    "from sklearn.linear_model import LinearRegression\n",
    "linR= LinearRegression()\n",
    "\n",
    "linR.fit(x1,y1)\n",
    "\n",
    "predictR = linR.predict(x2)"
   ]
  },
  {
   "cell_type": "code",
   "execution_count": 62,
   "id": "e266b699",
   "metadata": {},
   "outputs": [
    {
     "name": "stdout",
     "output_type": "stream",
     "text": [
      "[11784.12300102  1692.10845955 13433.4563632  12563.74629451\n",
      "  6915.99326597  1959.69601896 12191.59889937 10947.44315014\n",
      "  6750.45034337  5595.68407808 13423.14653304 11133.70430848\n",
      "  7889.82965717  6742.67842952  5382.40445183  7269.87539564\n",
      "  1574.52347511  1550.87840369  1386.67509304  1224.32952393]\n"
     ]
    }
   ],
   "source": [
    "print(predictR[:20])"
   ]
  },
  {
   "cell_type": "code",
   "execution_count": 12,
   "id": "635ffbad",
   "metadata": {},
   "outputs": [
    {
     "name": "stdout",
     "output_type": "stream",
     "text": [
      "0.6812341654048006\n",
      "3251.088981513969\n"
     ]
    }
   ],
   "source": [
    "from sklearn.metrics import r2_score,mean_squared_error\n",
    "print(r2_score(y2,predictR))\n",
    "print(mean_squared_error(y2,predictR,squared=False))"
   ]
  },
  {
   "cell_type": "code",
   "execution_count": 13,
   "id": "9ef2411d",
   "metadata": {},
   "outputs": [
    {
     "name": "stdout",
     "output_type": "stream",
     "text": [
      "Cross Validation test results of accuracy:\n",
      "[0.67064231 0.60002475 0.75511893 0.651809   0.67341672 0.63056265\n",
      " 0.68606898 0.72901044 0.69089721 0.70587817]\n",
      "\n",
      "\n",
      "Accuracy result of Linear Regression is: 67.93429153308857\n",
      "\n"
     ]
    }
   ],
   "source": [
    "accuracy = cross_val_score(linR, x2, y2, cv=10)\n",
    "print('Cross Validation test results of accuracy:')\n",
    "print(accuracy)\n",
    "print(\"\")\n",
    "\n",
    "\n",
    "print(\"\")\n",
    "print(\"Accuracy result of Linear Regression is:\",accuracy.mean()*100)\n",
    "print(\"\")"
   ]
  },
  {
   "cell_type": "code",
   "execution_count": 14,
   "id": "24d403c5",
   "metadata": {},
   "outputs": [],
   "source": [
    "from sklearn.model_selection import cross_val_score\n",
    "from sklearn.naive_bayes import GaussianNB\n",
    "gnb = GaussianNB()\n",
    "\n",
    "gnb.fit(x1,y1)\n",
    "\n",
    "predictNB = gnb.predict(x2)"
   ]
  },
  {
   "cell_type": "code",
   "execution_count": 48,
   "id": "3aea82f8",
   "metadata": {},
   "outputs": [
    {
     "name": "stdout",
     "output_type": "stream",
     "text": [
      "[14779 12076 12076  9690 11499  6181 13509 11499 11499 11499 13509 11499\n",
      "  4537  1445 11499 11499  1445 11499  1155  1049]\n"
     ]
    }
   ],
   "source": [
    "print(predictNB[:20])"
   ]
  },
  {
   "cell_type": "code",
   "execution_count": 15,
   "id": "d4b3a0de",
   "metadata": {},
   "outputs": [
    {
     "name": "stdout",
     "output_type": "stream",
     "text": [
      "0.30161895131863925\n",
      "4812.15043293474\n"
     ]
    }
   ],
   "source": [
    "from sklearn.metrics import r2_score,mean_squared_error\n",
    "print(r2_score(y2,predictNB))\n",
    "print(mean_squared_error(y2,predictNB,squared=False))"
   ]
  },
  {
   "cell_type": "code",
   "execution_count": 16,
   "id": "7a777c93",
   "metadata": {},
   "outputs": [
    {
     "name": "stdout",
     "output_type": "stream",
     "text": [
      "Cross Validation test results of accuracy:\n",
      "[0.61551155 0.74257426 0.7669967  0.71617162 0.75676568 0.70957096\n",
      " 0.72178218 0.62244224 0.71970948 0.72036976]\n",
      "\n",
      "\n",
      "Accuracy result of Naive Baiyes Algorithm is: 70.91894415588801\n",
      "\n"
     ]
    }
   ],
   "source": [
    "accuracy = cross_val_score(gnb, x2, y2, cv=10)\n",
    "print('Cross Validation test results of accuracy:')\n",
    "print(accuracy)\n",
    "print(\"\")\n",
    "\n",
    "\n",
    "print(\"\")\n",
    "print(\"Accuracy result of Naive Baiyes Algorithm is:\",accuracy.mean()*100)\n",
    "print(\"\")"
   ]
  },
  {
   "cell_type": "code",
   "execution_count": 17,
   "id": "83aa6dfc",
   "metadata": {},
   "outputs": [],
   "source": [
    "from sklearn.model_selection import cross_val_score\n",
    "from sklearn.ensemble import RandomForestClassifier,RandomForestRegressor\n",
    "\n",
    "RFRegressor= RandomForestRegressor()\n",
    "\n",
    "RFRegressor.fit(x1,y1)\n",
    "predictRF = RFRegressor.predict(x2)"
   ]
  },
  {
   "cell_type": "code",
   "execution_count": 49,
   "id": "33c8ae61",
   "metadata": {},
   "outputs": [
    {
     "name": "stdout",
     "output_type": "stream",
     "text": [
      "[12400.38 10652.16 15159.8   8870.85 23112.35 20284.34 13489.91 11725.18\n",
      "  6519.15  3029.61 15589.97 12588.6   7817.11  6931.7   2570.06  1386.78\n",
      "  1519.73  1431.8   1155.    1048.92]\n"
     ]
    }
   ],
   "source": [
    "print(predictRF[:20])"
   ]
  },
  {
   "cell_type": "code",
   "execution_count": 26,
   "id": "502222af",
   "metadata": {},
   "outputs": [
    {
     "name": "stdout",
     "output_type": "stream",
     "text": [
      "0.9344123950143997\n",
      "1474.7006058532515\n"
     ]
    }
   ],
   "source": [
    "from sklearn.metrics import r2_score,mean_squared_error\n",
    "print(r2_score(y2,predictRF))\n",
    "print(mean_squared_error(y2,predictRF,squared=False))"
   ]
  },
  {
   "cell_type": "code",
   "execution_count": 18,
   "id": "fc6c7403",
   "metadata": {},
   "outputs": [
    {
     "name": "stdout",
     "output_type": "stream",
     "text": [
      "Cross Validation test results of accuracy:\n",
      "[0.82577968 0.7659651  0.91008623 0.85203318 0.88119111 0.88331627\n",
      " 0.88803742 0.88769208 0.89644675 0.88905283]\n",
      "\n",
      "\n",
      "Accuracy result of Random Forest Regressor is: 86.79600661503054\n",
      "\n"
     ]
    }
   ],
   "source": [
    "accuracy = cross_val_score(RFRegressor, x2, y2, cv=10)\n",
    "print('Cross Validation test results of accuracy:')\n",
    "print(accuracy)\n",
    "print(\"\")\n",
    "\n",
    "\n",
    "print(\"\")\n",
    "print(\"Accuracy result of Random Forest Regressor is:\",accuracy.mean()*100)\n",
    "print(\"\")"
   ]
  },
  {
   "cell_type": "code",
   "execution_count": 19,
   "id": "d0f6e44b",
   "metadata": {},
   "outputs": [],
   "source": [
    "from sklearn.model_selection import cross_val_score\n",
    "from sklearn.svm import SVR\n",
    "s = SVR()\n",
    "\n",
    "s.fit(x1[:90000],y1[:90000])\n",
    "\n",
    "predictS = s.predict(x2)"
   ]
  },
  {
   "cell_type": "code",
   "execution_count": 50,
   "id": "2a181300",
   "metadata": {},
   "outputs": [
    {
     "name": "stdout",
     "output_type": "stream",
     "text": [
      "[9321.69832562 1264.36808303 9681.12933845 9504.13513729 6394.89475295\n",
      " 1337.848991   9412.02180293 8949.8399844  6299.4422998  5284.75878134\n",
      " 9650.07909934 8970.7597876  7260.66221468 6243.88879593 5010.21363946\n",
      " 6614.41135093  838.2497973   783.2337181   649.56757953  606.61601221]\n"
     ]
    }
   ],
   "source": [
    "print(predictS[:20])"
   ]
  },
  {
   "cell_type": "code",
   "execution_count": 20,
   "id": "ef86e8ed",
   "metadata": {},
   "outputs": [
    {
     "name": "stdout",
     "output_type": "stream",
     "text": [
      "0.5540085911585002\n",
      "3845.5301346538768\n"
     ]
    }
   ],
   "source": [
    "from sklearn.metrics import r2_score,mean_squared_error\n",
    "print(r2_score(y2,predictS))\n",
    "print(mean_squared_error(y2,predictS,squared=False))"
   ]
  },
  {
   "cell_type": "code",
   "execution_count": 21,
   "id": "dcc873bd",
   "metadata": {},
   "outputs": [
    {
     "name": "stdout",
     "output_type": "stream",
     "text": [
      "Cross Validation test results of accuracy:\n",
      "[0.17419337 0.23461026 0.30420045 0.16804764 0.23519306 0.2076145\n",
      " 0.21799704 0.1631499  0.20478957 0.18675249]\n",
      "\n",
      "\n",
      "Accuracy result of Support Vector Machine is: 20.965482740457052\n",
      "\n"
     ]
    }
   ],
   "source": [
    "accuracy = cross_val_score(s, x2, y2, cv=10)\n",
    "print('Cross Validation test results of accuracy:')\n",
    "print(accuracy)\n",
    "print(\"\")\n",
    "\n",
    "\n",
    "print(\"\")\n",
    "print(\"Accuracy result of Support Vector Machine is:\",accuracy.mean()*100)\n",
    "print(\"\")"
   ]
  },
  {
   "cell_type": "code",
   "execution_count": 22,
   "id": "4e22c3e1",
   "metadata": {},
   "outputs": [],
   "source": [
    "from sklearn.model_selection import cross_val_score\n",
    "from sklearn.neighbors import KNeighborsRegressor\n",
    "knnc = KNeighborsRegressor()\n",
    "\n",
    "knnc.fit(x1,y1)\n",
    "predictknnc = knnc.predict(x2)"
   ]
  },
  {
   "cell_type": "code",
   "execution_count": 51,
   "id": "361ab894",
   "metadata": {},
   "outputs": [
    {
     "name": "stdout",
     "output_type": "stream",
     "text": [
      "[12093.8 14562.4 15301.  13170.   9751.4 14795.4 12283.2 11535.   9751.4\n",
      "  2847.4 14987.8 11522.4  6097.4  9751.4  3152.2  1098.8  1460.6  1427.8\n",
      "  1149.2  1033.8]\n"
     ]
    }
   ],
   "source": [
    "print(predictknnc[:20])"
   ]
  },
  {
   "cell_type": "code",
   "execution_count": 23,
   "id": "38e6f312",
   "metadata": {},
   "outputs": [
    {
     "name": "stdout",
     "output_type": "stream",
     "text": [
      "0.8185188618633445\n",
      "2453.063099508916\n"
     ]
    }
   ],
   "source": [
    "from sklearn.metrics import r2_score,mean_squared_error\n",
    "print(r2_score(y2,predictknnc))\n",
    "print(mean_squared_error(y2,predictknnc,squared=False))"
   ]
  },
  {
   "cell_type": "code",
   "execution_count": 24,
   "id": "68f056ea",
   "metadata": {},
   "outputs": [
    {
     "name": "stdout",
     "output_type": "stream",
     "text": [
      "Cross Validation test results of accuracy:\n",
      "[0.68895058 0.61292834 0.68620054 0.68013253 0.73969986 0.74395066\n",
      " 0.75362887 0.74555289 0.79953222 0.78811943]\n",
      "\n",
      "\n",
      "Accuracy result of K-Neighbors Regression is: 72.3869591725999\n",
      "\n"
     ]
    }
   ],
   "source": [
    "accuracy = cross_val_score(knnc, x2, y2, cv=10)\n",
    "print('Cross Validation test results of accuracy:')\n",
    "print(accuracy)\n",
    "print(\"\")\n",
    "\n",
    "\n",
    "print(\"\")\n",
    "print(\"Accuracy result of K-Neighbors Regression is:\",accuracy.mean()*100)\n",
    "print(\"\")"
   ]
  },
  {
   "cell_type": "code",
   "execution_count": 25,
   "id": "fa8b6bae",
   "metadata": {},
   "outputs": [],
   "source": [
    "from sklearn.model_selection import cross_val_score\n",
    "from sklearn.tree import DecisionTreeRegressor\n",
    "dTree = DecisionTreeRegressor()\n",
    "\n",
    "dTree.fit(x1,y1)\n",
    "\n",
    "predictDT = dTree.predict(x2)"
   ]
  },
  {
   "cell_type": "code",
   "execution_count": 53,
   "id": "2aee73c6",
   "metadata": {},
   "outputs": [
    {
     "name": "stdout",
     "output_type": "stream",
     "text": [
      "[12489.  1647. 15125.  8421. 23290. 23489. 13720. 11988.  6531.  3009.\n",
      " 15585. 12613.  7889.  6942.  2494.  1387.  1515.  1432.  1155.  1049.]\n"
     ]
    }
   ],
   "source": [
    "print(predictDT[:20])"
   ]
  },
  {
   "cell_type": "code",
   "execution_count": 26,
   "id": "92aec7e6",
   "metadata": {},
   "outputs": [
    {
     "name": "stdout",
     "output_type": "stream",
     "text": [
      "0.8826319173061435\n",
      "1972.7314918190066\n"
     ]
    }
   ],
   "source": [
    "from sklearn.metrics import r2_score,mean_squared_error\n",
    "print(r2_score(y2,predictDT))\n",
    "print(mean_squared_error(y2,predictDT,squared=False))"
   ]
  },
  {
   "cell_type": "code",
   "execution_count": 27,
   "id": "04851125",
   "metadata": {},
   "outputs": [
    {
     "name": "stdout",
     "output_type": "stream",
     "text": [
      "Cross Validation test results of accuracy:\n",
      "[0.58682687 0.61866698 0.82543419 0.77211305 0.77790701 0.81489829\n",
      " 0.81669255 0.76692257 0.78378685 0.71822362]\n",
      "\n",
      "\n",
      "Accuracy result of Decision Tree Regression is: 74.81471979256025\n",
      "\n"
     ]
    }
   ],
   "source": [
    "accuracy = cross_val_score(dTree, x2, y2, cv=10)\n",
    "print('Cross Validation test results of accuracy:')\n",
    "print(accuracy)\n",
    "print(\"\")\n",
    "\n",
    "\n",
    "print(\"\")\n",
    "print(\"Accuracy result of Decision Tree Regression is:\",accuracy.mean()*100)\n",
    "print(\"\")"
   ]
  },
  {
   "cell_type": "code",
   "execution_count": 22,
   "id": "1c367fe4",
   "metadata": {},
   "outputs": [],
   "source": [
    "df_accuracy = pd.read_excel('C:\\\\Users\\\\admin\\\\OneDrive\\\\Desktop\\\\Dissertation\\\\accuracy_graph.xlsx')"
   ]
  },
  {
   "cell_type": "code",
   "execution_count": 24,
   "id": "08bb6b5b",
   "metadata": {},
   "outputs": [
    {
     "data": {
      "text/plain": [
       "<AxesSubplot:xlabel='Algorithm'>"
      ]
     },
     "execution_count": 24,
     "metadata": {},
     "output_type": "execute_result"
    },
    {
     "data": {
      "image/png": "[encoded data removed]",
      "text/plain": [
       "<Figure size 432x288 with 1 Axes>"
      ]
     },
     "metadata": {
      "needs_background": "light"
     },
     "output_type": "display_data"
    }
   ],
   "source": [
    "df_accuracy.plot(x=\"Algorithm\", y=\"Cross Validation Accuracy\", kind= \"bar\")"
   ]
  },
  {
   "cell_type": "code",
   "execution_count": 26,
   "id": "7fcb301c",
   "metadata": {},
   "outputs": [],
   "source": [
    "df_accuracy = pd.read_excel('C:\\\\Users\\\\admin\\\\OneDrive\\\\Desktop\\\\Dissertation\\\\RMSE_Graph.xlsx')"
   ]
  },
  {
   "cell_type": "code",
   "execution_count": 27,
   "id": "6b0fffb2",
   "metadata": {},
   "outputs": [
    {
     "data": {
      "text/plain": [
       "<AxesSubplot:xlabel='Algorithm'>"
      ]
     },
     "execution_count": 27,
     "metadata": {},
     "output_type": "execute_result"
    },
    {
     "data": {
      "image/png": "[encoded data removed]",
      "text/plain": [
       "<Figure size 432x288 with 1 Axes>"
      ]
     },
     "metadata": {
      "needs_background": "light"
     },
     "output_type": "display_data"
    }
   ],
   "source": [
    "df_accuracy.plot(x=\"Algorithm\", y=\"RMSE\", kind= \"bar\")"
   ]
  },
  {
   "cell_type": "code",
   "execution_count": 28,
   "id": "04f8eefd",
   "metadata": {},
   "outputs": [],
   "source": [
    "df_accuracy = pd.read_excel('C:\\\\Users\\\\admin\\\\OneDrive\\\\Desktop\\\\Dissertation\\\\MSE_Graph.xlsx')"
   ]
  },
  {
   "cell_type": "code",
   "execution_count": 29,
   "id": "6257142f",
   "metadata": {},
   "outputs": [
    {
     "data": {
      "text/plain": [
       "<AxesSubplot:xlabel='Algorithm'>"
      ]
     },
     "execution_count": 29,
     "metadata": {},
     "output_type": "execute_result"
    },
    {
     "data": {
      "image/png": "[encoded data removed]",
      "text/plain": [
       "<Figure size 432x288 with 1 Axes>"
      ]
     },
     "metadata": {
      "needs_background": "light"
     },
     "output_type": "display_data"
    }
   ],
   "source": [
    "df_accuracy.plot(x=\"Algorithm\", y=\"MSE\", kind= \"bar\")"
   ]
  },
  {
   "cell_type": "code",
   "execution_count": 28,
   "id": "d4eaa042",
   "metadata": {},
   "outputs": [],
   "source": [
    "df3 = df[df['YEAR'] != 8]\n",
    "df4 = df[df['YEAR'] == 8]\n",
    "x3 = x2.copy()\n",
    "x3 = x3.assign(YEAR = 8)"
   ]
  },
  {
   "cell_type": "code",
   "execution_count": 29,
   "id": "cb0d449b",
   "metadata": {},
   "outputs": [],
   "source": [
    "from sklearn.model_selection import cross_val_score\n",
    "from sklearn.linear_model import LinearRegression\n",
    "logR1= LinearRegression()\n",
    "\n",
    "logR1.fit(x1,y1)\n",
    "\n",
    "predictR1 = logR1.predict(x3)"
   ]
  },
  {
   "cell_type": "code",
   "execution_count": 30,
   "id": "d0db4b7a",
   "metadata": {},
   "outputs": [
    {
     "name": "stdout",
     "output_type": "stream",
     "text": [
      "[11796.5765735   1704.56203203 13445.90993567 12576.19986698\n",
      "  6928.44683845  1972.14959144 12204.05247185 10959.89672262\n",
      "  6762.90391584  5608.13765055 13435.60010551 11146.15788095\n",
      "  7902.28322964  6755.13200199  5394.8580243   7282.32896811\n",
      "  1586.97704758  1563.33197617  1399.12866552  1236.7830964 ]\n"
     ]
    }
   ],
   "source": [
    "print(predictR1[:20])"
   ]
  },
  {
   "cell_type": "code",
   "execution_count": 31,
   "id": "646d71c4",
   "metadata": {},
   "outputs": [],
   "source": [
    "from sklearn.model_selection import cross_val_score\n",
    "from sklearn.naive_bayes import GaussianNB\n",
    "gnb1 = GaussianNB()\n",
    "\n",
    "gnb1.fit(x1,y1)\n",
    "\n",
    "predictNB1 = gnb1.predict(x3)"
   ]
  },
  {
   "cell_type": "code",
   "execution_count": 32,
   "id": "21d9e4eb",
   "metadata": {},
   "outputs": [
    {
     "name": "stdout",
     "output_type": "stream",
     "text": [
      "[14779 12076 12076  9690 11499  6181 13509 11499 11499 11499 13509 11499\n",
      "  4537  1445 11499 11499  1445 11499  1155  1049]\n"
     ]
    }
   ],
   "source": [
    "print(predictNB1[:20])"
   ]
  },
  {
   "cell_type": "code",
   "execution_count": 33,
   "id": "ba214370",
   "metadata": {},
   "outputs": [],
   "source": [
    "from sklearn.model_selection import cross_val_score\n",
    "from sklearn.ensemble import RandomForestClassifier,RandomForestRegressor\n",
    "RFRegressor1= RandomForestRegressor()\n",
    "\n",
    "RFRegressor1.fit(x1,y1)\n",
    "\n",
    "predictRF1 = RFRegressor1.predict(x3)"
   ]
  },
  {
   "cell_type": "code",
   "execution_count": 34,
   "id": "e3b711ff",
   "metadata": {},
   "outputs": [
    {
     "name": "stdout",
     "output_type": "stream",
     "text": [
      "[12073.68  9563.03 15175.84  9285.91 23056.82 18618.71 13566.51 11754.82\n",
      "  6537.4   3113.65 15590.6  12586.53  7866.13  6928.5   2547.25  1386.96\n",
      "  1521.56  1431.84  1155.    1049.  ]\n"
     ]
    }
   ],
   "source": [
    "print(predictRF1[:20])"
   ]
  },
  {
   "cell_type": "code",
   "execution_count": 35,
   "id": "59a46c97",
   "metadata": {},
   "outputs": [],
   "source": [
    "from sklearn.svm import SVR\n",
    "s1 = SVR()\n",
    "\n",
    "s1.fit(x1[:50000],y1[:50000])\n",
    "\n",
    "predictS1 = s1.predict(x3)"
   ]
  },
  {
   "cell_type": "code",
   "execution_count": 36,
   "id": "5f3b99c5",
   "metadata": {},
   "outputs": [
    {
     "name": "stdout",
     "output_type": "stream",
     "text": [
      "[6903.15404127  933.27213282 6897.44211182 6933.14737731 5006.64089159\n",
      "  988.9821464  6922.35161672 6769.90375062 4930.19358859 4110.23445073\n",
      " 6915.13427058 6779.12677935 5684.76979158 4885.61973451 3887.76187073\n",
      " 5181.51632186  612.9569667   571.98471962  472.86565932  441.15366852]\n"
     ]
    }
   ],
   "source": [
    "print(predictS1[:20])"
   ]
  },
  {
   "cell_type": "code",
   "execution_count": 37,
   "id": "cd18d0c0",
   "metadata": {},
   "outputs": [],
   "source": [
    "from sklearn.model_selection import cross_val_score\n",
    "from sklearn.neighbors import KNeighborsRegressor\n",
    "knnr1 = KNeighborsRegressor()\n",
    "\n",
    "knnr1.fit(x1,y1)\n",
    "predictknnr1 = knnr1.predict(x3)"
   ]
  },
  {
   "cell_type": "code",
   "execution_count": 38,
   "id": "0e8414d7",
   "metadata": {},
   "outputs": [
    {
     "name": "stdout",
     "output_type": "stream",
     "text": [
      "[12093.8 14562.4 15301.  13170.   9751.4 14795.4 12283.2 11535.   9751.4\n",
      "  2847.4 14987.8 11522.4  6097.4  9751.4  3152.2  1098.8  1460.6  1427.8\n",
      "  1149.2  1033.8]\n"
     ]
    }
   ],
   "source": [
    "print(predictknnr1[:20])"
   ]
  },
  {
   "cell_type": "code",
   "execution_count": 39,
   "id": "23dad917",
   "metadata": {},
   "outputs": [],
   "source": [
    "from sklearn.model_selection import cross_val_score\n",
    "from sklearn.tree import DecisionTreeRegressor\n",
    "dTree1 = DecisionTreeRegressor()\n",
    "\n",
    "dTree1.fit(x1,y1)\n",
    "\n",
    "predictDT1 = dTree1.predict(x3)"
   ]
  },
  {
   "cell_type": "code",
   "execution_count": 40,
   "id": "36076e61",
   "metadata": {},
   "outputs": [
    {
     "name": "stdout",
     "output_type": "stream",
     "text": [
      "[12489. 17645. 15189.  8421. 23290. 23598. 13695. 11988.  6531.  2917.\n",
      " 15585. 12613.  7889.  6942.  2491.  1386.  1528.  1432.  1155.  1049.]\n"
     ]
    }
   ],
   "source": [
    "print(predictDT1[:20])"
   ]
  }
 ],
 "metadata": {
  "kernelspec": {
   "display_name": "Python 3",
   "language": "python",
   "name": "python3"
  },
  "language_info": {
   "codemirror_mode": {
    "name": "ipython",
    "version": 3
   },
   "file_extension": ".py",
   "mimetype": "text/x-python",
   "name": "python",
   "nbconvert_exporter": "python",
   "pygments_lexer": "ipython3",
   "version": "3.8.8"
  }
 },
 "nbformat": 4,
 "nbformat_minor": 5
}
